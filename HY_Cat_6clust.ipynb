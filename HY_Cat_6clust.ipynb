{
 "cells": [
  {
   "cell_type": "code",
   "execution_count": 40,
   "id": "f125b2ec",
   "metadata": {},
   "outputs": [],
   "source": [
    "import pandas as pd\n",
    "import numpy as np\n",
    "import matplotlib.pyplot as plt\n",
    "import seaborn as sns\n",
    "%matplotlib inline"
   ]
  },
  {
   "cell_type": "code",
   "execution_count": 41,
   "id": "71ffef83",
   "metadata": {},
   "outputs": [],
   "source": [
    "hy=  pd.read_csv('HY_Category_bds_031623.csv')\n",
    "avg= pd.read_csv('HY_Category_avg_031623.csv')"
   ]
  },
  {
   "cell_type": "code",
   "execution_count": 42,
   "id": "939929c1",
   "metadata": {},
   "outputs": [
    {
     "name": "stdout",
     "output_type": "stream",
     "text": [
      "<class 'pandas.core.frame.DataFrame'>\n",
      "RangeIndex: 1547 entries, 0 to 1546\n",
      "Data columns (total 6 columns):\n",
      " #   Column        Non-Null Count  Dtype  \n",
      "---  ------        --------------  -----  \n",
      " 0   CUSIP         1547 non-null   object \n",
      " 1   10/31/22 MTD  1547 non-null   float64\n",
      " 2   11/30/22 MTD  1547 non-null   float64\n",
      " 3   12/31/22 MTD  1547 non-null   float64\n",
      " 4   01/31/23 MTD  1547 non-null   float64\n",
      " 5   02/28/23 MTD  1547 non-null   float64\n",
      "dtypes: float64(5), object(1)\n",
      "memory usage: 72.6+ KB\n"
     ]
    }
   ],
   "source": [
    "hy.info()"
   ]
  },
  {
   "cell_type": "code",
   "execution_count": 43,
   "id": "a357e2f5",
   "metadata": {},
   "outputs": [
    {
     "data": {
      "text/html": [
       "<div>\n",
       "<style scoped>\n",
       "    .dataframe tbody tr th:only-of-type {\n",
       "        vertical-align: middle;\n",
       "    }\n",
       "\n",
       "    .dataframe tbody tr th {\n",
       "        vertical-align: top;\n",
       "    }\n",
       "\n",
       "    .dataframe thead th {\n",
       "        text-align: right;\n",
       "    }\n",
       "</style>\n",
       "<table border=\"1\" class=\"dataframe\">\n",
       "  <thead>\n",
       "    <tr style=\"text-align: right;\">\n",
       "      <th></th>\n",
       "      <th>10/31/22 MTD</th>\n",
       "      <th>11/30/22 MTD</th>\n",
       "      <th>12/31/22 MTD</th>\n",
       "      <th>01/31/23 MTD</th>\n",
       "      <th>02/28/23 MTD</th>\n",
       "    </tr>\n",
       "  </thead>\n",
       "  <tbody>\n",
       "    <tr>\n",
       "      <th>count</th>\n",
       "      <td>1547.000000</td>\n",
       "      <td>1547.000000</td>\n",
       "      <td>1547.000000</td>\n",
       "      <td>1547.000000</td>\n",
       "      <td>1547.000000</td>\n",
       "    </tr>\n",
       "    <tr>\n",
       "      <th>mean</th>\n",
       "      <td>2.515469</td>\n",
       "      <td>1.964001</td>\n",
       "      <td>-0.300692</td>\n",
       "      <td>3.778455</td>\n",
       "      <td>-0.796264</td>\n",
       "    </tr>\n",
       "    <tr>\n",
       "      <th>std</th>\n",
       "      <td>4.266524</td>\n",
       "      <td>5.018319</td>\n",
       "      <td>3.683421</td>\n",
       "      <td>3.956733</td>\n",
       "      <td>3.446002</td>\n",
       "    </tr>\n",
       "    <tr>\n",
       "      <th>min</th>\n",
       "      <td>-37.470000</td>\n",
       "      <td>-36.600000</td>\n",
       "      <td>-36.460000</td>\n",
       "      <td>-14.820000</td>\n",
       "      <td>-22.550000</td>\n",
       "    </tr>\n",
       "    <tr>\n",
       "      <th>25%</th>\n",
       "      <td>0.990000</td>\n",
       "      <td>0.645000</td>\n",
       "      <td>-1.300000</td>\n",
       "      <td>1.760000</td>\n",
       "      <td>-2.040000</td>\n",
       "    </tr>\n",
       "    <tr>\n",
       "      <th>50%</th>\n",
       "      <td>2.620000</td>\n",
       "      <td>1.730000</td>\n",
       "      <td>-0.040000</td>\n",
       "      <td>3.010000</td>\n",
       "      <td>-1.010000</td>\n",
       "    </tr>\n",
       "    <tr>\n",
       "      <th>75%</th>\n",
       "      <td>4.355000</td>\n",
       "      <td>3.170000</td>\n",
       "      <td>1.030000</td>\n",
       "      <td>4.685000</td>\n",
       "      <td>0.155000</td>\n",
       "    </tr>\n",
       "    <tr>\n",
       "      <th>max</th>\n",
       "      <td>24.740000</td>\n",
       "      <td>40.880000</td>\n",
       "      <td>19.780000</td>\n",
       "      <td>44.620000</td>\n",
       "      <td>35.560000</td>\n",
       "    </tr>\n",
       "  </tbody>\n",
       "</table>\n",
       "</div>"
      ],
      "text/plain": [
       "       10/31/22 MTD  11/30/22 MTD  12/31/22 MTD  01/31/23 MTD  02/28/23 MTD\n",
       "count   1547.000000   1547.000000   1547.000000   1547.000000   1547.000000\n",
       "mean       2.515469      1.964001     -0.300692      3.778455     -0.796264\n",
       "std        4.266524      5.018319      3.683421      3.956733      3.446002\n",
       "min      -37.470000    -36.600000    -36.460000    -14.820000    -22.550000\n",
       "25%        0.990000      0.645000     -1.300000      1.760000     -2.040000\n",
       "50%        2.620000      1.730000     -0.040000      3.010000     -1.010000\n",
       "75%        4.355000      3.170000      1.030000      4.685000      0.155000\n",
       "max       24.740000     40.880000     19.780000     44.620000     35.560000"
      ]
     },
     "execution_count": 43,
     "metadata": {},
     "output_type": "execute_result"
    }
   ],
   "source": [
    "hy.describe()"
   ]
  },
  {
   "cell_type": "code",
   "execution_count": 44,
   "id": "d42421d7",
   "metadata": {},
   "outputs": [],
   "source": [
    "from sklearn.cluster import KMeans"
   ]
  },
  {
   "cell_type": "code",
   "execution_count": 45,
   "id": "2fcf502e",
   "metadata": {},
   "outputs": [],
   "source": [
    "kmeans = KMeans(n_clusters=6)"
   ]
  },
  {
   "cell_type": "code",
   "execution_count": 46,
   "id": "8e676849",
   "metadata": {},
   "outputs": [
    {
     "data": {
      "text/plain": [
       "KMeans(n_clusters=6)"
      ]
     },
     "execution_count": 46,
     "metadata": {},
     "output_type": "execute_result"
    }
   ],
   "source": [
    "kmeans.fit(hy.drop('CUSIP',axis=1))"
   ]
  },
  {
   "cell_type": "code",
   "execution_count": 47,
   "id": "f11150fd",
   "metadata": {},
   "outputs": [
    {
     "data": {
      "text/plain": [
       "array([[  2.3018794 ,   1.71435176,   0.12619095,   2.34982915,\n",
       "         -1.04562814],\n",
       "       [  7.21714286,   0.83694805,  -1.63022727,   5.19399351,\n",
       "         -1.70308442],\n",
       "       [ -0.56225434,   5.68942197,   0.97508671,   5.5716763 ,\n",
       "          1.05462428],\n",
       "       [ -7.68272727, -24.55727273,   8.88272727,  11.21545455,\n",
       "         11.89181818],\n",
       "       [ -4.40611111,  -6.11361111, -10.42055556,  17.68722222,\n",
       "         -0.13333333],\n",
       "       [-11.72583333,  24.19583333,   0.83833333,   7.64291667,\n",
       "          1.02791667]])"
      ]
     },
     "execution_count": 47,
     "metadata": {},
     "output_type": "execute_result"
    }
   ],
   "source": [
    "kmeans.cluster_centers_"
   ]
  },
  {
   "cell_type": "code",
   "execution_count": 48,
   "id": "116a12df",
   "metadata": {},
   "outputs": [
    {
     "data": {
      "text/plain": [
       "array([1, 1, 2, ..., 0, 2, 5])"
      ]
     },
     "execution_count": 48,
     "metadata": {},
     "output_type": "execute_result"
    }
   ],
   "source": [
    "arr = kmeans.labels_\n",
    "arr"
   ]
  },
  {
   "cell_type": "code",
   "execution_count": 49,
   "id": "a48c0090",
   "metadata": {},
   "outputs": [
    {
     "data": {
      "text/plain": [
       "<AxesSubplot:>"
      ]
     },
     "execution_count": 49,
     "metadata": {},
     "output_type": "execute_result"
    },
    {
     "data": {
      "image/png": "[encoded data removed]",
      "text/plain": [
       "<Figure size 432x288 with 1 Axes>"
      ]
     },
     "metadata": {
      "needs_background": "light"
     },
     "output_type": "display_data"
    }
   ],
   "source": [
    "sns.scatterplot(data=arr)"
   ]
  },
  {
   "cell_type": "code",
   "execution_count": 50,
   "id": "e64cd86a",
   "metadata": {},
   "outputs": [],
   "source": [
    "hy['Cluster'] = arr.tolist()"
   ]
  },
  {
   "cell_type": "code",
   "execution_count": 51,
   "id": "39bcd8a9",
   "metadata": {},
   "outputs": [
    {
     "data": {
      "text/html": [
       "<div>\n",
       "<style scoped>\n",
       "    .dataframe tbody tr th:only-of-type {\n",
       "        vertical-align: middle;\n",
       "    }\n",
       "\n",
       "    .dataframe tbody tr th {\n",
       "        vertical-align: top;\n",
       "    }\n",
       "\n",
       "    .dataframe thead th {\n",
       "        text-align: right;\n",
       "    }\n",
       "</style>\n",
       "<table border=\"1\" class=\"dataframe\">\n",
       "  <thead>\n",
       "    <tr style=\"text-align: right;\">\n",
       "      <th></th>\n",
       "      <th>CUSIP</th>\n",
       "      <th>10/31/22 MTD</th>\n",
       "      <th>11/30/22 MTD</th>\n",
       "      <th>12/31/22 MTD</th>\n",
       "      <th>01/31/23 MTD</th>\n",
       "      <th>02/28/23 MTD</th>\n",
       "      <th>Cluster</th>\n",
       "    </tr>\n",
       "  </thead>\n",
       "  <tbody>\n",
       "    <tr>\n",
       "      <th>0</th>\n",
       "      <td>00081TAK4</td>\n",
       "      <td>5.91</td>\n",
       "      <td>5.71</td>\n",
       "      <td>-0.53</td>\n",
       "      <td>5.15</td>\n",
       "      <td>-4.86</td>\n",
       "      <td>1</td>\n",
       "    </tr>\n",
       "    <tr>\n",
       "      <th>1</th>\n",
       "      <td>00119LAA9</td>\n",
       "      <td>8.18</td>\n",
       "      <td>0.07</td>\n",
       "      <td>-0.83</td>\n",
       "      <td>3.06</td>\n",
       "      <td>-0.35</td>\n",
       "      <td>1</td>\n",
       "    </tr>\n",
       "    <tr>\n",
       "      <th>2</th>\n",
       "      <td>00150LAB7</td>\n",
       "      <td>0.98</td>\n",
       "      <td>2.82</td>\n",
       "      <td>-1.15</td>\n",
       "      <td>5.73</td>\n",
       "      <td>2.45</td>\n",
       "      <td>2</td>\n",
       "    </tr>\n",
       "    <tr>\n",
       "      <th>3</th>\n",
       "      <td>00164VAE3</td>\n",
       "      <td>2.49</td>\n",
       "      <td>-2.44</td>\n",
       "      <td>-10.65</td>\n",
       "      <td>10.85</td>\n",
       "      <td>11.87</td>\n",
       "      <td>4</td>\n",
       "    </tr>\n",
       "    <tr>\n",
       "      <th>4</th>\n",
       "      <td>00164VAF0</td>\n",
       "      <td>3.64</td>\n",
       "      <td>-3.42</td>\n",
       "      <td>-14.16</td>\n",
       "      <td>-1.05</td>\n",
       "      <td>19.90</td>\n",
       "      <td>0</td>\n",
       "    </tr>\n",
       "    <tr>\n",
       "      <th>...</th>\n",
       "      <td>...</td>\n",
       "      <td>...</td>\n",
       "      <td>...</td>\n",
       "      <td>...</td>\n",
       "      <td>...</td>\n",
       "      <td>...</td>\n",
       "      <td>...</td>\n",
       "    </tr>\n",
       "    <tr>\n",
       "      <th>1542</th>\n",
       "      <td>BN1555661</td>\n",
       "      <td>2.54</td>\n",
       "      <td>2.08</td>\n",
       "      <td>0.33</td>\n",
       "      <td>3.77</td>\n",
       "      <td>3.03</td>\n",
       "      <td>0</td>\n",
       "    </tr>\n",
       "    <tr>\n",
       "      <th>1543</th>\n",
       "      <td>BO2045322</td>\n",
       "      <td>6.19</td>\n",
       "      <td>4.92</td>\n",
       "      <td>-0.11</td>\n",
       "      <td>1.40</td>\n",
       "      <td>-2.14</td>\n",
       "      <td>0</td>\n",
       "    </tr>\n",
       "    <tr>\n",
       "      <th>1544</th>\n",
       "      <td>BQ7990238</td>\n",
       "      <td>1.81</td>\n",
       "      <td>1.05</td>\n",
       "      <td>-0.54</td>\n",
       "      <td>0.11</td>\n",
       "      <td>1.69</td>\n",
       "      <td>0</td>\n",
       "    </tr>\n",
       "    <tr>\n",
       "      <th>1545</th>\n",
       "      <td>ZO4199154</td>\n",
       "      <td>3.14</td>\n",
       "      <td>9.20</td>\n",
       "      <td>1.81</td>\n",
       "      <td>1.82</td>\n",
       "      <td>-3.71</td>\n",
       "      <td>2</td>\n",
       "    </tr>\n",
       "    <tr>\n",
       "      <th>1546</th>\n",
       "      <td>ZS2201136</td>\n",
       "      <td>-8.19</td>\n",
       "      <td>31.70</td>\n",
       "      <td>6.01</td>\n",
       "      <td>6.77</td>\n",
       "      <td>-2.70</td>\n",
       "      <td>5</td>\n",
       "    </tr>\n",
       "  </tbody>\n",
       "</table>\n",
       "<p>1547 rows × 7 columns</p>\n",
       "</div>"
      ],
      "text/plain": [
       "          CUSIP  10/31/22 MTD  11/30/22 MTD  12/31/22 MTD  01/31/23 MTD  \\\n",
       "0     00081TAK4          5.91          5.71         -0.53          5.15   \n",
       "1     00119LAA9          8.18          0.07         -0.83          3.06   \n",
       "2     00150LAB7          0.98          2.82         -1.15          5.73   \n",
       "3     00164VAE3          2.49         -2.44        -10.65         10.85   \n",
       "4     00164VAF0          3.64         -3.42        -14.16         -1.05   \n",
       "...         ...           ...           ...           ...           ...   \n",
       "1542  BN1555661          2.54          2.08          0.33          3.77   \n",
       "1543  BO2045322          6.19          4.92         -0.11          1.40   \n",
       "1544  BQ7990238          1.81          1.05         -0.54          0.11   \n",
       "1545  ZO4199154          3.14          9.20          1.81          1.82   \n",
       "1546  ZS2201136         -8.19         31.70          6.01          6.77   \n",
       "\n",
       "      02/28/23 MTD  Cluster  \n",
       "0            -4.86        1  \n",
       "1            -0.35        1  \n",
       "2             2.45        2  \n",
       "3            11.87        4  \n",
       "4            19.90        0  \n",
       "...            ...      ...  \n",
       "1542          3.03        0  \n",
       "1543         -2.14        0  \n",
       "1544          1.69        0  \n",
       "1545         -3.71        2  \n",
       "1546         -2.70        5  \n",
       "\n",
       "[1547 rows x 7 columns]"
      ]
     },
     "execution_count": 51,
     "metadata": {},
     "output_type": "execute_result"
    }
   ],
   "source": [
    "hy"
   ]
  },
  {
   "cell_type": "code",
   "execution_count": 52,
   "id": "fec2270f",
   "metadata": {},
   "outputs": [
    {
     "data": {
      "text/plain": [
       "Cluster\n",
       "0    995\n",
       "1    308\n",
       "2    173\n",
       "3     11\n",
       "4     36\n",
       "5     24\n",
       "dtype: int64"
      ]
     },
     "execution_count": 52,
     "metadata": {},
     "output_type": "execute_result"
    }
   ],
   "source": [
    "hy.groupby(['Cluster']).size()"
   ]
  },
  {
   "cell_type": "code",
   "execution_count": 53,
   "id": "11d77bdb",
   "metadata": {},
   "outputs": [],
   "source": [
    " hy.to_excel(\"output_0316_6.xlsx\")"
   ]
  },
  {
   "cell_type": "code",
   "execution_count": null,
   "id": "6ea45f56",
   "metadata": {},
   "outputs": [],
   "source": []
  },
  {
   "cell_type": "code",
   "execution_count": 54,
   "id": "2a0d55a9",
   "metadata": {},
   "outputs": [
    {
     "data": {
      "text/plain": [
       "KMeans(n_clusters=6)"
      ]
     },
     "execution_count": 54,
     "metadata": {},
     "output_type": "execute_result"
    }
   ],
   "source": [
    "kmeans.fit(avg.drop('CUSIP',axis=1))"
   ]
  },
  {
   "cell_type": "code",
   "execution_count": 55,
   "id": "8a0a991d",
   "metadata": {},
   "outputs": [
    {
     "data": {
      "text/plain": [
       "array([5, 5, 5, ..., 4, 4, 4])"
      ]
     },
     "execution_count": 55,
     "metadata": {},
     "output_type": "execute_result"
    }
   ],
   "source": [
    "arr2 = kmeans.labels_\n",
    "arr2"
   ]
  },
  {
   "cell_type": "code",
   "execution_count": 56,
   "id": "347fe2e5",
   "metadata": {},
   "outputs": [],
   "source": [
    "avg['Cluster'] = arr2.tolist()"
   ]
  },
  {
   "cell_type": "code",
   "execution_count": 57,
   "id": "90e70f93",
   "metadata": {},
   "outputs": [
    {
     "data": {
      "text/plain": [
       "<AxesSubplot:xlabel='Avg_Pos', ylabel='Avg_Neg'>"
      ]
     },
     "execution_count": 57,
     "metadata": {},
     "output_type": "execute_result"
    },
    {
     "data": {
      "image/png": "[encoded data removed]",
      "text/plain": [
       "<Figure size 432x288 with 1 Axes>"
      ]
     },
     "metadata": {
      "needs_background": "light"
     },
     "output_type": "display_data"
    }
   ],
   "source": [
    "sns.scatterplot(x='Avg_Pos',y='Avg_Neg',data=avg,hue='Cluster',cmap='rainbow')"
   ]
  },
  {
   "cell_type": "code",
   "execution_count": null,
   "id": "f69b99a2",
   "metadata": {},
   "outputs": [],
   "source": []
  }
 ],
 "metadata": {
  "kernelspec": {
   "display_name": "Python 3",
   "language": "python",
   "name": "python3"
  },
  "language_info": {
   "codemirror_mode": {
    "name": "ipython",
    "version": 3
   },
   "file_extension": ".py",
   "mimetype": "text/x-python",
   "name": "python",
   "nbconvert_exporter": "python",
   "pygments_lexer": "ipython3",
   "version": "3.8.8"
  }
 },
 "nbformat": 4,
 "nbformat_minor": 5
}
