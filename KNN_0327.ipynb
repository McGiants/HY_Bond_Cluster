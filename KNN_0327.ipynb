{
 "cells": [
  {
   "cell_type": "code",
   "execution_count": 19,
   "id": "9662e0c9",
   "metadata": {},
   "outputs": [],
   "source": [
    "import pandas as pd\n",
    "import seaborn as sns\n",
    "import matplotlib.pyplot as plt\n",
    "import numpy as np\n",
    "%matplotlib inline"
   ]
  },
  {
   "cell_type": "code",
   "execution_count": 49,
   "id": "44d53c0c",
   "metadata": {},
   "outputs": [],
   "source": [
    "hy=  pd.read_csv('output_0316_6_forKNN.csv')\n",
    "avg= pd.read_csv('HY_Category_avg_031623.csv')"
   ]
  },
  {
   "cell_type": "code",
   "execution_count": 50,
   "id": "54a1e838",
   "metadata": {},
   "outputs": [
    {
     "data": {
      "text/html": [
       "<div>\n",
       "<style scoped>\n",
       "    .dataframe tbody tr th:only-of-type {\n",
       "        vertical-align: middle;\n",
       "    }\n",
       "\n",
       "    .dataframe tbody tr th {\n",
       "        vertical-align: top;\n",
       "    }\n",
       "\n",
       "    .dataframe thead th {\n",
       "        text-align: right;\n",
       "    }\n",
       "</style>\n",
       "<table border=\"1\" class=\"dataframe\">\n",
       "  <thead>\n",
       "    <tr style=\"text-align: right;\">\n",
       "      <th></th>\n",
       "      <th>10/31/22 MTD</th>\n",
       "      <th>11/30/22 MTD</th>\n",
       "      <th>12/31/22 MTD</th>\n",
       "      <th>01/31/23 MTD</th>\n",
       "      <th>02/28/23 MTD</th>\n",
       "      <th>Cluster</th>\n",
       "    </tr>\n",
       "  </thead>\n",
       "  <tbody>\n",
       "    <tr>\n",
       "      <th>0</th>\n",
       "      <td>5.91</td>\n",
       "      <td>5.71</td>\n",
       "      <td>-0.53</td>\n",
       "      <td>5.15</td>\n",
       "      <td>-4.86</td>\n",
       "      <td>1</td>\n",
       "    </tr>\n",
       "    <tr>\n",
       "      <th>1</th>\n",
       "      <td>8.18</td>\n",
       "      <td>0.07</td>\n",
       "      <td>-0.83</td>\n",
       "      <td>3.06</td>\n",
       "      <td>-0.35</td>\n",
       "      <td>1</td>\n",
       "    </tr>\n",
       "    <tr>\n",
       "      <th>2</th>\n",
       "      <td>0.98</td>\n",
       "      <td>2.82</td>\n",
       "      <td>-1.15</td>\n",
       "      <td>5.73</td>\n",
       "      <td>2.45</td>\n",
       "      <td>2</td>\n",
       "    </tr>\n",
       "  </tbody>\n",
       "</table>\n",
       "</div>"
      ],
      "text/plain": [
       "   10/31/22 MTD  11/30/22 MTD  12/31/22 MTD  01/31/23 MTD  02/28/23 MTD  \\\n",
       "0          5.91          5.71         -0.53          5.15         -4.86   \n",
       "1          8.18          0.07         -0.83          3.06         -0.35   \n",
       "2          0.98          2.82         -1.15          5.73          2.45   \n",
       "\n",
       "   Cluster  \n",
       "0        1  \n",
       "1        1  \n",
       "2        2  "
      ]
     },
     "execution_count": 50,
     "metadata": {},
     "output_type": "execute_result"
    }
   ],
   "source": [
    "hy.head(3)"
   ]
  },
  {
   "cell_type": "code",
   "execution_count": 51,
   "id": "eb8f8a86",
   "metadata": {},
   "outputs": [],
   "source": [
    "from sklearn.preprocessing import StandardScaler"
   ]
  },
  {
   "cell_type": "code",
   "execution_count": 52,
   "id": "2ad3f7e4",
   "metadata": {},
   "outputs": [],
   "source": [
    "scaler = StandardScaler()"
   ]
  },
  {
   "cell_type": "code",
   "execution_count": 53,
   "id": "cda37077",
   "metadata": {},
   "outputs": [
    {
     "data": {
      "text/plain": [
       "StandardScaler()"
      ]
     },
     "execution_count": 53,
     "metadata": {},
     "output_type": "execute_result"
    }
   ],
   "source": [
    "scaler.fit(hy.drop('Cluster',axis=1))"
   ]
  },
  {
   "cell_type": "code",
   "execution_count": 54,
   "id": "b704f8ff",
   "metadata": {},
   "outputs": [],
   "source": [
    "scaled_features = scaler.transform(hy.drop('Cluster',axis=1))"
   ]
  },
  {
   "cell_type": "code",
   "execution_count": 56,
   "id": "dfa784e5",
   "metadata": {},
   "outputs": [
    {
     "data": {
      "text/html": [
       "<div>\n",
       "<style scoped>\n",
       "    .dataframe tbody tr th:only-of-type {\n",
       "        vertical-align: middle;\n",
       "    }\n",
       "\n",
       "    .dataframe tbody tr th {\n",
       "        vertical-align: top;\n",
       "    }\n",
       "\n",
       "    .dataframe thead th {\n",
       "        text-align: right;\n",
       "    }\n",
       "</style>\n",
       "<table border=\"1\" class=\"dataframe\">\n",
       "  <thead>\n",
       "    <tr style=\"text-align: right;\">\n",
       "      <th></th>\n",
       "      <th>10/31/22 MTD</th>\n",
       "      <th>11/30/22 MTD</th>\n",
       "      <th>12/31/22 MTD</th>\n",
       "      <th>01/31/23 MTD</th>\n",
       "      <th>02/28/23 MTD</th>\n",
       "    </tr>\n",
       "  </thead>\n",
       "  <tbody>\n",
       "    <tr>\n",
       "      <th>0</th>\n",
       "      <td>0.795877</td>\n",
       "      <td>0.746706</td>\n",
       "      <td>-0.062274</td>\n",
       "      <td>0.346748</td>\n",
       "      <td>-1.179642</td>\n",
       "    </tr>\n",
       "    <tr>\n",
       "      <th>1</th>\n",
       "      <td>1.328098</td>\n",
       "      <td>-0.377540</td>\n",
       "      <td>-0.143747</td>\n",
       "      <td>-0.181637</td>\n",
       "      <td>0.129544</td>\n",
       "    </tr>\n",
       "    <tr>\n",
       "      <th>2</th>\n",
       "      <td>-0.360004</td>\n",
       "      <td>0.170630</td>\n",
       "      <td>-0.230651</td>\n",
       "      <td>0.493381</td>\n",
       "      <td>0.942342</td>\n",
       "    </tr>\n",
       "    <tr>\n",
       "      <th>3</th>\n",
       "      <td>-0.005971</td>\n",
       "      <td>-0.877869</td>\n",
       "      <td>-2.810609</td>\n",
       "      <td>1.787796</td>\n",
       "      <td>3.676829</td>\n",
       "    </tr>\n",
       "    <tr>\n",
       "      <th>4</th>\n",
       "      <td>0.263656</td>\n",
       "      <td>-1.073216</td>\n",
       "      <td>-3.763835</td>\n",
       "      <td>-1.220708</td>\n",
       "      <td>6.007819</td>\n",
       "    </tr>\n",
       "  </tbody>\n",
       "</table>\n",
       "</div>"
      ],
      "text/plain": [
       "   10/31/22 MTD  11/30/22 MTD  12/31/22 MTD  01/31/23 MTD  02/28/23 MTD\n",
       "0      0.795877      0.746706     -0.062274      0.346748     -1.179642\n",
       "1      1.328098     -0.377540     -0.143747     -0.181637      0.129544\n",
       "2     -0.360004      0.170630     -0.230651      0.493381      0.942342\n",
       "3     -0.005971     -0.877869     -2.810609      1.787796      3.676829\n",
       "4      0.263656     -1.073216     -3.763835     -1.220708      6.007819"
      ]
     },
     "execution_count": 56,
     "metadata": {},
     "output_type": "execute_result"
    }
   ],
   "source": [
    "df_feat = pd.DataFrame(scaled_features,columns=hy.columns[:-1])\n",
    "df_feat.head()"
   ]
  },
  {
   "cell_type": "code",
   "execution_count": 57,
   "id": "a974d328",
   "metadata": {},
   "outputs": [],
   "source": [
    "#Train Test Split\n",
    "from sklearn.model_selection import train_test_split"
   ]
  },
  {
   "cell_type": "code",
   "execution_count": 58,
   "id": "30fb0662",
   "metadata": {},
   "outputs": [],
   "source": [
    "X_train, X_test, y_train, y_test = train_test_split(scaled_features,hy['Cluster'],\n",
    "                                                    test_size=0.30)"
   ]
  },
  {
   "cell_type": "code",
   "execution_count": 59,
   "id": "cfc58d4c",
   "metadata": {},
   "outputs": [],
   "source": [
    "#USING KNN\n",
    "from sklearn.neighbors import KNeighborsClassifier"
   ]
  },
  {
   "cell_type": "code",
   "execution_count": 72,
   "id": "8a4095d4",
   "metadata": {},
   "outputs": [],
   "source": [
    "#Starting with 5\n",
    "knn = KNeighborsClassifier(n_neighbors=6)"
   ]
  },
  {
   "cell_type": "code",
   "execution_count": 73,
   "id": "f6b0b373",
   "metadata": {},
   "outputs": [
    {
     "data": {
      "text/plain": [
       "KNeighborsClassifier(n_neighbors=6)"
      ]
     },
     "execution_count": 73,
     "metadata": {},
     "output_type": "execute_result"
    }
   ],
   "source": [
    "knn.fit(X_train,y_train)"
   ]
  },
  {
   "cell_type": "code",
   "execution_count": 74,
   "id": "6c1ddd2b",
   "metadata": {},
   "outputs": [],
   "source": [
    "pred = knn.predict(X_test)"
   ]
  },
  {
   "cell_type": "code",
   "execution_count": 75,
   "id": "08f799bb",
   "metadata": {},
   "outputs": [],
   "source": [
    "#Predictions and Evaluations\n",
    "from sklearn.metrics import classification_report,confusion_matrix"
   ]
  },
  {
   "cell_type": "code",
   "execution_count": 76,
   "id": "51a7187a",
   "metadata": {},
   "outputs": [
    {
     "name": "stdout",
     "output_type": "stream",
     "text": [
      "[[302   5   0   0   0   0]\n",
      " [ 15  71   0   0   0   0]\n",
      " [ 19   2  27   0   0   0]\n",
      " [  3   0   0   3   0   0]\n",
      " [  0   0   2   0   7   0]\n",
      " [  0   0   3   0   0   6]]\n"
     ]
    }
   ],
   "source": [
    "print(confusion_matrix(y_test,pred))"
   ]
  },
  {
   "cell_type": "code",
   "execution_count": 77,
   "id": "f18c5c62",
   "metadata": {},
   "outputs": [
    {
     "name": "stdout",
     "output_type": "stream",
     "text": [
      "              precision    recall  f1-score   support\n",
      "\n",
      "           0       0.89      0.98      0.93       307\n",
      "           1       0.91      0.83      0.87        86\n",
      "           2       0.84      0.56      0.68        48\n",
      "           3       1.00      0.50      0.67         6\n",
      "           4       1.00      0.78      0.88         9\n",
      "           5       1.00      0.67      0.80         9\n",
      "\n",
      "    accuracy                           0.89       465\n",
      "   macro avg       0.94      0.72      0.80       465\n",
      "weighted avg       0.90      0.89      0.89       465\n",
      "\n"
     ]
    }
   ],
   "source": [
    "print(classification_report(y_test,pred))"
   ]
  },
  {
   "cell_type": "code",
   "execution_count": 78,
   "id": "b29d8b05",
   "metadata": {},
   "outputs": [],
   "source": [
    "#Choosing a K value\n",
    "error_rate = []\n",
    "\n",
    "# Used 5 to 15 as \"appropriate\" cluster category sizes.  More/Less make less sense.\n",
    "for i in range(5,15):\n",
    "    \n",
    "    knn = KNeighborsClassifier(n_neighbors=i)\n",
    "    knn.fit(X_train,y_train)\n",
    "    pred_i = knn.predict(X_test)\n",
    "    error_rate.append(np.mean(pred_i != y_test))"
   ]
  },
  {
   "cell_type": "code",
   "execution_count": 80,
   "id": "8f7011eb",
   "metadata": {},
   "outputs": [
    {
     "data": {
      "text/plain": [
       "Text(0, 0.5, 'Error Rate')"
      ]
     },
     "execution_count": 80,
     "metadata": {},
     "output_type": "execute_result"
    },
    {
     "data": {
      "image/png": "[encoded data removed]",
      "text/plain": [
       "<Figure size 720x432 with 1 Axes>"
      ]
     },
     "metadata": {
      "needs_background": "light"
     },
     "output_type": "display_data"
    }
   ],
   "source": [
    "plt.figure(figsize=(10,6))\n",
    "plt.plot(range(5,15),error_rate,color='blue', linestyle='dashed', marker='o',\n",
    "         markerfacecolor='red', markersize=10)\n",
    "plt.title('Error Rate vs. K Value')\n",
    "plt.xlabel('K')\n",
    "plt.ylabel('Error Rate')"
   ]
  },
  {
   "cell_type": "code",
   "execution_count": null,
   "id": "810728a1",
   "metadata": {},
   "outputs": [],
   "source": []
  }
 ],
 "metadata": {
  "kernelspec": {
   "display_name": "Python 3",
   "language": "python",
   "name": "python3"
  },
  "language_info": {
   "codemirror_mode": {
    "name": "ipython",
    "version": 3
   },
   "file_extension": ".py",
   "mimetype": "text/x-python",
   "name": "python",
   "nbconvert_exporter": "python",
   "pygments_lexer": "ipython3",
   "version": "3.8.8"
  }
 },
 "nbformat": 4,
 "nbformat_minor": 5
}
